{
 "cells": [
  {
   "cell_type": "code",
   "execution_count": 12,
   "metadata": {},
   "outputs": [],
   "source": [
    "import plyvel"
   ]
  },
  {
   "cell_type": "code",
   "execution_count": 13,
   "metadata": {},
   "outputs": [],
   "source": [
    "url_database = 'url_db/'\n",
    "already_have_database = \"already_have_db/\""
   ]
  },
  {
   "cell_type": "code",
   "execution_count": 14,
   "metadata": {},
   "outputs": [],
   "source": [
    "db = plyvel.DB(url_database, create_if_missing=True)"
   ]
  },
  {
   "cell_type": "code",
   "execution_count": 15,
   "metadata": {},
   "outputs": [],
   "source": [
    "db.get(b\"SDJLFKSDJ:FLS\")\n"
   ]
  },
  {
   "cell_type": "code",
   "execution_count": 16,
   "metadata": {},
   "outputs": [],
   "source": [
    "db.close()"
   ]
  },
  {
   "cell_type": "code",
   "execution_count": 17,
   "metadata": {},
   "outputs": [],
   "source": [
    "def getAlreadyHave(url, database = already_have_database):\n",
    "    if type(url) != bytes:\n",
    "        url = url.encode()\n",
    "    try:\n",
    "        db = plyvel.DB(database, create_if_missing=True)\n",
    "        shorted_url = db.get(url)\n",
    "        db.close()\n",
    "        return shorted_url\n",
    "    except Exception as ee:\n",
    "        import traceback\n",
    "        import sys\n",
    "        exc_type, exc_value, exc_tb = sys.exc_info()\n",
    "        result = \"\".join(traceback.format_exception(exc_type, exc_value, exc_tb))\n",
    "        print(result)\n",
    "        print(f\"Database conflicting when reading {url}\")\n",
    "        time.sleep(0.1)\n",
    "        db.close()\n",
    "        return getAlreadyHave(url)\n",
    "def writeAlreadyHave(origin_url, shorten_url, database = already_have_database):\n",
    "    key = origin_url\n",
    "    value = shorten_url\n",
    "    if type(key) != bytes:\n",
    "        key = key.encode()\n",
    "    if type(value) != bytes:\n",
    "        value = value.encode()\n",
    "    try:\n",
    "        db = plyvel.DB(database, create_if_missing=True)\n",
    "        if not db.get(key) or overwrite:\n",
    "            db.put(key, value)\n",
    "            success = True\n",
    "        else:\n",
    "            success = False\n",
    "        db.close()\n",
    "        return {\"success\": success}\n",
    "    except Exception as ee:\n",
    "        import traceback\n",
    "        import sys\n",
    "        exc_type, exc_value, exc_tb = sys.exc_info()\n",
    "        result = \"\".join(traceback.format_exception(exc_type, exc_value, exc_tb))\n",
    "        print(result)\n",
    "        print(f\"Database conflicting when writing {key}:{value}\")\n",
    "        time.sleep(0.1)\n",
    "        db.close()\n",
    "        return db_write(key, value)"
   ]
  },
  {
   "cell_type": "code",
   "execution_count": 18,
   "metadata": {},
   "outputs": [],
   "source": [
    "import time\n",
    "def db_write(key, value, overwrite = False, database = url_database):\n",
    "    if type(key) != bytes:\n",
    "        key = key.encode()\n",
    "    if type(value) != bytes:\n",
    "        value = value.encode()\n",
    "    try:\n",
    "        db = plyvel.DB(database, create_if_missing=True)\n",
    "        if not db.get(key) or overwrite:\n",
    "            db.put(key, value)\n",
    "            success = True\n",
    "        else:\n",
    "            success = False\n",
    "        db.close()\n",
    "        return {\"success\": success}\n",
    "    except Exception as ee:\n",
    "        import traceback\n",
    "        import sys\n",
    "        exc_type, exc_value, exc_tb = sys.exc_info()\n",
    "        result = \"\".join(traceback.format_exception(exc_type, exc_value, exc_tb))\n",
    "        print(result)\n",
    "        print(f\"Database conflicting when writing {key}:{value}\")\n",
    "        time.sleep(0.1)\n",
    "        db.close()\n",
    "        return db_write(key, value)"
   ]
  },
  {
   "cell_type": "code",
   "execution_count": 19,
   "metadata": {},
   "outputs": [],
   "source": [
    "def db_read(key, database = url_database):\n",
    "    if type(key) != bytes:\n",
    "        key = key.encode()\n",
    "    try:\n",
    "        db = plyvel.DB(database, create_if_missing=True)\n",
    "        value = db.get(key)\n",
    "        db.close()\n",
    "        try: \n",
    "            value = value.decode()\n",
    "        except:\n",
    "            pass\n",
    "        return value\n",
    "    except Exception as ee:\n",
    "        import traceback\n",
    "        import sys\n",
    "        exc_type, exc_value, exc_tb = sys.exc_info()\n",
    "        result = \"\".join(traceback.format_exception(exc_type, exc_value, exc_tb))\n",
    "        print(result)\n",
    "        \n",
    "        print(f\"Database conflicting when reading {key}\")\n",
    "        time.sleep(0.1)\n",
    "        db.close()\n",
    "        return db_read(key)"
   ]
  },
  {
   "cell_type": "code",
   "execution_count": 20,
   "metadata": {},
   "outputs": [],
   "source": [
    "import random\n",
    "import string\n",
    "\n",
    "def get_random_string(length):\n",
    "    letters = string.ascii_lowercase + string.ascii_uppercase\n",
    "    result_str = ''.join(random.choice(letters) for i in range(length))\n",
    "    return result_str\n"
   ]
  },
  {
   "cell_type": "code",
   "execution_count": 42,
   "metadata": {},
   "outputs": [],
   "source": [
    "# uvicorn filename:app --port 8001 --workers 5 --proxy-headers\n",
    "\n",
    "from fastapi import FastAPI, Depends, HTTPException, status, File, UploadFile, HTTPException, Query, Request\n",
    "from fastapi.security import OAuth2PasswordBearer, OAuth2PasswordRequestForm\n",
    "from fastapi.responses import HTMLResponse\n",
    "import uvicorn\n",
    "import time\n",
    "\n",
    "import re\n",
    "import requests\n",
    "\n",
    "app = FastAPI()\n",
    "\n",
    "from fastapi.middleware.cors import CORSMiddleware\n",
    "\n",
    "app.add_middleware(\n",
    "    CORSMiddleware,\n",
    "    allow_origins=[\"*\"],\n",
    "    allow_credentials=True,\n",
    "    allow_methods=[\"*\"],\n",
    "    allow_headers=[\"*\"],\n",
    ")\n",
    "\n",
    "from pydantic import BaseModel\n",
    "from typing import Optional\n",
    "\n",
    "class shorten_url_data(BaseModel):\n",
    "    url: str\n",
    "    except_link: Optional[str] = None\n",
    "\n",
    "@app.post(\"/api/post/shorten_url/\")\n",
    "async def shorten_url(data: shorten_url_data):\n",
    "    \n",
    "    origin_url = data.url\n",
    "    \n",
    "    already_have = getAlreadyHave(origin_url)\n",
    "    if already_have:\n",
    "        shorten_url = already_have.decode()\n",
    "    else:\n",
    "        for i in range(10):\n",
    "            shorten_url = get_random_string(4+i)\n",
    "            print(shorten_url)\n",
    "            result = db_write(shorten_url, origin_url)\n",
    "            if result[\"success\"] == True:\n",
    "                break\n",
    "        #print(f\"{origin_url} -> https://pyurl.cc/{shorten_url}\")\n",
    "        writeAlreadyHave(origin_url, shorten_url)\n",
    "    return {\"message\": \"success\",\n",
    "            \"shorten_url\": f\"https://pyurl.cc/{shorten_url}\",\n",
    "            \"origin_url\": origin_url}\n",
    "\n",
    "\n",
    "pattern = r\"\\b(TelegramBot|TwitterBot|PlurkBot|facebookexternalhit|ZXing|okhttp|jptt|Mo PTT|curl|Wget)\\b\"\n",
    "\n",
    "from fastapi.templating import Jinja2Templates\n",
    "templates = Jinja2Templates(directory=\"templates\")\n",
    "\n",
    "@app.get(\"/{url}\", response_class=HTMLResponse)\n",
    "async def get_url(request: Request, url):\n",
    "    if url == \"\":\n",
    "        return {\"message\": \"Home page is still building...\"}\n",
    "    \n",
    "    redirect_url = db_read(url)\n",
    "    \n",
    "    if redirect_url:\n",
    "        if re.search(pattern, request.headers[\"user-agent\"]): #如果是機器人來抓網頁資訊\n",
    "            return requests.get(redirect_url).text\n",
    "\n",
    "        return templates.TemplateResponse(\"redir.html\", {\"request\": request, \"url\": redirect_url})\n",
    "\n",
    "\n",
    "\n",
    "@app.get(\"/qrcode/\")\n",
    "async def returnQrcode(request: Request, url: str =\"Hi\"):#token: str = Depends(oauth2_scheme)):\n",
    "    print(\"URL\", url)\n",
    "    url = url.replace(\" \", \"+\")\n",
    "    return templates.TemplateResponse(\"qrCode.html\", {\"request\": request, \"link\": url})\n"
   ]
  },
  {
   "cell_type": "code",
   "execution_count": null,
   "metadata": {
    "scrolled": true
   },
   "outputs": [
    {
     "name": "stderr",
     "output_type": "stream",
     "text": [
      "INFO:     Started server process [27627]\n",
      "INFO:     Waiting for application startup.\n",
      "INFO:     Application startup complete.\n",
      "INFO:     Uvicorn running on http://0.0.0.0:11133 (Press CTRL+C to quit)\n"
     ]
    },
    {
     "name": "stdout",
     "output_type": "stream",
     "text": [
      "URL https://dev.fio.one/my-apps/821/view/DUUASIOMGPJHMWXQSIBHMHEQDPDLDCCTPGSPMIR9CX9RSTZUZBAFWLBROX9DOGIBGLNLPTJV9INWZ9999 YAZBRNOMFFYHT9BDRGWUXXKYPHESFYOJWFFG9OLKHALUJVQYHKVWBORCOHQPU9EMWPLIPTINKAUD99999\n",
      "INFO:     127.0.0.1:41094 - \"GET /qrcode/?url=https://dev.fio.one/my-apps/821/view/DUUASIOMGPJHMWXQSIBHMHEQDPDLDCCTPGSPMIR9CX9RSTZUZBAFWLBROX9DOGIBGLNLPTJV9INWZ9999+YAZBRNOMFFYHT9BDRGWUXXKYPHESFYOJWFFG9OLKHALUJVQYHKVWBORCOHQPU9EMWPLIPTINKAUD99999 HTTP/1.0\" 200 OK\n",
      "INFO:     127.0.0.1:41096 - \"GET /favicon.ico HTTP/1.0\" 200 OK\n"
     ]
    }
   ],
   "source": [
    "\n",
    "import nest_asyncio\n",
    "nest_asyncio.apply()\n",
    "import uvicorn\n",
    "uvicorn.run(app, host=\"0.0.0.0\", port=11133)"
   ]
  },
  {
   "cell_type": "code",
   "execution_count": null,
   "metadata": {},
   "outputs": [],
   "source": []
  }
 ],
 "metadata": {
  "kernelspec": {
   "display_name": "Python 3",
   "language": "python",
   "name": "python3"
  },
  "language_info": {
   "codemirror_mode": {
    "name": "ipython",
    "version": 3
   },
   "file_extension": ".py",
   "mimetype": "text/x-python",
   "name": "python",
   "nbconvert_exporter": "python",
   "pygments_lexer": "ipython3",
   "version": "3.7.4"
  }
 },
 "nbformat": 4,
 "nbformat_minor": 2
}
