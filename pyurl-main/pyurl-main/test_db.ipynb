{
 "cells": [
  {
   "cell_type": "code",
   "execution_count": 5,
   "metadata": {},
   "outputs": [],
   "source": [
    "import os\n",
    "\n",
    "#init db\n",
    "if os.path.isdir(\"./mongodb\") == False:\n",
    "    os.mkdir(\"./mongodb\")\n",
    "\n",
    "import subprocess\n",
    "import signal\n",
    "import time\n",
    "\n",
    "\n",
    "commands = [\n",
    "    'mongod --port 14701 --bind_ip localhost --dbpath ./mongodb',\n",
    "    'uvicorn app:app --workers 4 --port 11133'\n",
    "]\n",
    "# Command with shell expansion\n",
    "processes = []\n",
    "for command in commands:\n",
    "    processes.append(subprocess.Popen(command, shell=True))\n",
    "\n",
    "while True:\n",
    "    try:\n",
    "        time.sleep(1)\n",
    "    except KeyboardInterrupt:\n",
    "        for process in processes:\n",
    "            process.send_signal(signal.SIGINT)\n",
    "        break"
   ]
  },
  {
   "cell_type": "code",
   "execution_count": null,
   "metadata": {},
   "outputs": [],
   "source": []
  },
  {
   "cell_type": "code",
   "execution_count": null,
   "metadata": {},
   "outputs": [],
   "source": []
  },
  {
   "cell_type": "code",
   "execution_count": null,
   "metadata": {},
   "outputs": [],
   "source": []
  },
  {
   "cell_type": "code",
   "execution_count": null,
   "metadata": {},
   "outputs": [],
   "source": []
  },
  {
   "cell_type": "code",
   "execution_count": 1,
   "metadata": {},
   "outputs": [],
   "source": [
    "import os\n",
    "\n",
    "if os.path.isdir(\"./mongodb\") == False:\n",
    "    os.mkdir(\"./mongodb\")\n",
    "\n",
    "import subprocess\n",
    "import signal\n",
    "import time\n",
    "# Command with shell expansion\n",
    "process = subprocess.Popen('mongod --port 14701 --bind_ip localhost --dbpath ./mongodb', shell=True)\n",
    "\n",
    "while True:\n",
    "    try:\n",
    "        time.sleep(1)\n",
    "    except KeyboardInterrupt:\n",
    "        process.send_signal(signal.SIGINT)\n",
    "        break"
   ]
  },
  {
   "cell_type": "code",
   "execution_count": null,
   "metadata": {},
   "outputs": [],
   "source": []
  }
 ],
 "metadata": {
  "kernelspec": {
   "display_name": "Python 3",
   "language": "python",
   "name": "python3"
  },
  "language_info": {
   "codemirror_mode": {
    "name": "ipython",
    "version": 3
   },
   "file_extension": ".py",
   "mimetype": "text/x-python",
   "name": "python",
   "nbconvert_exporter": "python",
   "pygments_lexer": "ipython3",
   "version": "3.7.4"
  }
 },
 "nbformat": 4,
 "nbformat_minor": 2
}
